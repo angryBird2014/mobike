{
 "cells": [
  {
   "cell_type": "code",
   "execution_count": 1,
   "metadata": {
    "collapsed": true
   },
   "outputs": [],
   "source": [
    "import pickle"
   ]
  },
  {
   "cell_type": "code",
   "execution_count": 2,
   "metadata": {
    "collapsed": false
   },
   "outputs": [
    {
     "name": "stdout",
     "output_type": "stream",
     "text": [
      "   orderid  userid  bikeid  biketype geohashed_start_loc          start_time  \\\n",
      "0    86458  467987   13488         1             wx4gfbe 2017-05-27 19:19:41   \n",
      "1  1473189  976462  170537         2             wx4eqep 2017-05-31 17:45:38   \n",
      "2  1441027  790813  167447         2             wx4e5zr 2017-05-26 11:31:48   \n",
      "3  4747983  744823  472963         1             wx4dxz4 2017-05-31 18:30:43   \n",
      "4    43984  712391    7158         1             wx4ewq5 2017-05-25 12:46:16   \n",
      "\n",
      "   start_year  start_month  start_day  start_hour  start_minute  start_second  \\\n",
      "0        2017            5         27          19            19            41   \n",
      "1        2017            5         31          17            45            38   \n",
      "2        2017            5         26          11            31            48   \n",
      "3        2017            5         31          18            30            43   \n",
      "4        2017            5         25          12            46            16   \n",
      "\n",
      "   start_longitude  start_latitude  \n",
      "0        40.037613      116.492844  \n",
      "1        39.963455      116.311569  \n",
      "2        39.942856      116.190720  \n",
      "3        39.853592      116.359634  \n",
      "4        40.023880      116.295090  \n"
     ]
    }
   ],
   "source": [
    "data = pickle.load(open('../dump/test.pkl','rb'))\n",
    "print(data.head())"
   ]
  },
  {
   "cell_type": "code",
   "execution_count": null,
   "metadata": {
    "collapsed": true
   },
   "outputs": [],
   "source": []
  }
 ],
 "metadata": {
  "kernelspec": {
   "display_name": "Python [Root]",
   "language": "python",
   "name": "Python [Root]"
  },
  "language_info": {
   "codemirror_mode": {
    "name": "ipython",
    "version": 3
   },
   "file_extension": ".py",
   "mimetype": "text/x-python",
   "name": "python",
   "nbconvert_exporter": "python",
   "pygments_lexer": "ipython3",
   "version": "3.5.2"
  }
 },
 "nbformat": 4,
 "nbformat_minor": 0
}
